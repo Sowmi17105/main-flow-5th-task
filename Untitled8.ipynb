{
  "nbformat": 4,
  "nbformat_minor": 0,
  "metadata": {
    "colab": {
      "provenance": []
    },
    "kernelspec": {
      "name": "python3",
      "display_name": "Python 3"
    },
    "language_info": {
      "name": "python"
    }
  },
  "cells": [
    {
      "cell_type": "code",
      "execution_count": 2,
      "metadata": {
        "colab": {
          "base_uri": "https://localhost:8080/",
          "height": 698
        },
        "id": "3HB6eWXJMkiC",
        "outputId": "c7f6cf3f-5a7a-48f0-d67f-3de1f14605ef"
      },
      "outputs": [
        {
          "output_type": "stream",
          "name": "stdout",
          "text": [
            "       Study Hours  Attendance       Pass\n",
            "count    10.000000   10.000000  10.000000\n",
            "mean      9.400000   73.200000   0.600000\n",
            "std       4.718757   17.893512   0.516398\n",
            "min       3.000000   45.000000   0.000000\n",
            "25%       5.500000   61.250000   0.000000\n",
            "50%       9.000000   75.000000   1.000000\n",
            "75%      13.500000   88.750000   1.000000\n",
            "max      16.000000   95.000000   1.000000\n"
          ]
        },
        {
          "output_type": "display_data",
          "data": {
            "text/plain": [
              "<Figure size 640x480 with 1 Axes>"
            ],
            "image/png": "[encoded data removed]"
          },
          "metadata": {}
        },
        {
          "output_type": "stream",
          "name": "stdout",
          "text": [
            "Accuracy: 1.0\n",
            "Confusion Matrix:\n",
            " [[1 0]\n",
            " [0 1]]\n"
          ]
        }
      ],
      "source": [
        "# Task 1: Student Pass/Fail Prediction\n",
        "\n",
        "import pandas as pd\n",
        "import numpy as np\n",
        "import matplotlib.pyplot as plt\n",
        "import seaborn as sns\n",
        "from sklearn.linear_model import LogisticRegression\n",
        "from sklearn.model_selection import train_test_split\n",
        "from sklearn.metrics import accuracy_score, confusion_matrix\n",
        "\n",
        "# 1. Example Dataset Creation\n",
        "data = {\n",
        "    'Study Hours': [5, 10, 15, 7, 8, 12, 4, 16, 3, 14],\n",
        "    'Attendance': [60, 80, 90, 65, 70, 85, 50, 95, 45, 92],\n",
        "    'Pass': [0, 1, 1, 0, 1, 1, 0, 1, 0, 1]\n",
        "}\n",
        "df = pd.DataFrame(data)\n",
        "\n",
        "# 2. Data Exploration\n",
        "print(df.describe())\n",
        "sns.scatterplot(x='Study Hours', y='Attendance', hue='Pass', data=df)\n",
        "plt.title('Study Hours vs Attendance')\n",
        "plt.show()\n",
        "\n",
        "# 3. Train-Test Split\n",
        "X = df[['Study Hours', 'Attendance']]\n",
        "y = df['Pass']\n",
        "X_train, X_test, y_train, y_test = train_test_split(X, y, test_size=0.2, random_state=42)\n",
        "\n",
        "# 4. Model Training\n",
        "model = LogisticRegression()\n",
        "model.fit(X_train, y_train)\n",
        "\n",
        "# 5. Prediction\n",
        "y_pred = model.predict(X_test)\n",
        "\n",
        "# 6. Evaluation\n",
        "acc = accuracy_score(y_test, y_pred)\n",
        "cm = confusion_matrix(y_test, y_pred)\n",
        "print(\"Accuracy:\", acc)\n",
        "print(\"Confusion Matrix:\\n\", cm)\n"
      ]
    },
    {
      "cell_type": "code",
      "source": [
        "# Task 2: Sentiment Analysis\n",
        "\n",
        "import pandas as pd\n",
        "from sklearn.model_selection import train_test_split\n",
        "from sklearn.feature_extraction.text import TfidfVectorizer\n",
        "from sklearn.linear_model import LogisticRegression\n",
        "from sklearn.metrics import accuracy_score, precision_score, recall_score, f1_score\n",
        "import re\n",
        "import nltk\n",
        "from nltk.corpus import stopwords\n",
        "from nltk.stem import WordNetLemmatizer\n",
        "\n",
        "# Uncomment if running first time\n",
        "import nltk\n",
        "nltk.download('stopwords')\n",
        "nltk.download('wordnet')\n",
        "\n",
        "# 1. Example Dataset Creation\n",
        "data = {\n",
        "    'Review Text': [\n",
        "        \"I love this product, it's amazing!\",\n",
        "        \"Horrible experience, will never buy again.\",\n",
        "        \"Absolutely fantastic service.\",\n",
        "        \"Worst purchase ever.\",\n",
        "        \"Great quality and fast delivery.\",\n",
        "        \"Terrible, very disappointed.\",\n",
        "        \"I am so happy with this.\",\n",
        "        \"Awful, do not recommend.\",\n",
        "        \"Excellent item.\",\n",
        "        \"Bad quality.\"\n",
        "    ],\n",
        "    'Sentiment': ['positive', 'negative', 'positive', 'negative', 'positive',\n",
        "                  'negative', 'positive', 'negative', 'positive', 'negative']\n",
        "}\n",
        "df = pd.DataFrame(data)\n",
        "\n",
        "# 2. Text Preprocessing\n",
        "lemmatizer = WordNetLemmatizer()\n",
        "stop_words = set(stopwords.words('english'))\n",
        "\n",
        "def preprocess(text):\n",
        "    text = text.lower()\n",
        "    text = re.sub(r'[^a-z\\s]', '', text)\n",
        "    tokens = text.split()\n",
        "    tokens = [lemmatizer.lemmatize(word) for word in tokens if word not in stop_words]\n",
        "    return ' '.join(tokens)\n",
        "\n",
        "df['Cleaned_Text'] = df['Review Text'].apply(preprocess)\n",
        "\n",
        "# 3. Vectorization\n",
        "vectorizer = TfidfVectorizer()\n",
        "X = vectorizer.fit_transform(df['Cleaned_Text'])\n",
        "y = df['Sentiment']\n",
        "\n",
        "# 4. Train-Test Split\n",
        "X_train, X_test, y_train, y_test = train_test_split(X, y, test_size=0.2, random_state=42)\n",
        "\n",
        "# 5. Model Training\n",
        "model = LogisticRegression()\n",
        "model.fit(X_train, y_train)\n",
        "\n",
        "# 6. Prediction\n",
        "y_pred = model.predict(X_test)\n",
        "\n",
        "# 7. Evaluation\n",
        "accuracy = accuracy_score(y_test, y_pred)\n",
        "precision = precision_score(y_test, y_pred, pos_label='positive')\n",
        "recall = recall_score(y_test, y_pred, pos_label='positive')\n",
        "f1 = f1_score(y_test, y_pred, pos_label='positive')\n",
        "\n",
        "print(\"Accuracy:\", accuracy)\n",
        "print(\"Precision:\", precision)\n",
        "print(\"Recall:\", recall)\n",
        "print(\"F1 Score:\", f1)"
      ],
      "metadata": {
        "colab": {
          "base_uri": "https://localhost:8080/"
        },
        "id": "D9nNaKfGNOiH",
        "outputId": "7fb09a83-596f-4cf5-8cfd-c52bea3db64a"
      },
      "execution_count": 3,
      "outputs": [
        {
          "output_type": "stream",
          "name": "stderr",
          "text": [
            "[nltk_data] Downloading package stopwords to /root/nltk_data...\n",
            "[nltk_data]   Unzipping corpora/stopwords.zip.\n",
            "[nltk_data] Downloading package wordnet to /root/nltk_data...\n"
          ]
        },
        {
          "output_type": "stream",
          "name": "stdout",
          "text": [
            "Accuracy: 0.5\n",
            "Precision: 0.0\n",
            "Recall: 0.0\n",
            "F1 Score: 0.0\n"
          ]
        },
        {
          "output_type": "stream",
          "name": "stderr",
          "text": [
            "/usr/local/lib/python3.11/dist-packages/sklearn/metrics/_classification.py:1565: UndefinedMetricWarning: Precision is ill-defined and being set to 0.0 due to no predicted samples. Use `zero_division` parameter to control this behavior.\n",
            "  _warn_prf(average, modifier, f\"{metric.capitalize()} is\", len(result))\n"
          ]
        }
      ]
    }
  ]
}